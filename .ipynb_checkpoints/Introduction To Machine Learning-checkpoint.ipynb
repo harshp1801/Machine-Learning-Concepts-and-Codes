{
 "cells": [
  {
   "cell_type": "markdown",
   "id": "50090267-73ab-4858-8a9e-2e335bd326b5",
   "metadata": {},
   "source": [
    "## $$ Introduction \\ to \\ Machine \\ Learning $$"
   ]
  },
  {
   "cell_type": "markdown",
   "id": "bcc29444-1b28-40e9-ada6-89cc542732dd",
   "metadata": {},
   "source": [
    "- ### What is Machine Learning?\n",
    "- Machine learning is the field of study in Artificial Intelligence that gives machines the ability to learn patterns from the data and make predictions on unseen data, and improve performance automatically without being explicitly programmed.\n",
    "\n",
    "-  Machine Learning is further categorized into the following categories:\n",
    "      - Supervised Learning\n",
    "      - Unsupervised Learning\n",
    "      - Reinforcement Learning\n",
    "\n",
    "---\n",
    "\n",
    "- 1) **Supervised Learning:**\n",
    "    - Supervised Learning is a machine learning algorithm that deals with labeled data.\n",
    "    - The objective of supervised machine learning is to learn the relationship between the input and output variables, and based on the learning, it then predicts the output for new/unseen input provided.\n",
    "    - **Supervised Learning is further classified as:**\n",
    "       - 1) Regression\n",
    "       - 2) Classification\n",
    "\n",
    "---\n",
    "\n",
    "- 2) **Unsupervised Learning:**\n",
    "     - Unsupervised Learning is a Machine Learning algorithm that deals with Unlabeled data.\n",
    "     - The objective is to find the common pattern grouping or structure present in the data and further categorize them based on these similarities.\n",
    "     - **Unsupervised Learning is further classified as:**\n",
    "       - 1) Clustering\n",
    "       - 2) Dimensionality Reduction\n",
    "       - 3) Association\n",
    "\n",
    "---\n",
    "\n",
    "- 3) **Reinforcement Learning:**\n",
    "     - Reinforcement Learning is a Machine Learning algorithm that allows machines/agents to learn and make decisions through trial and error with the end goal to maximize the Reward.\n",
    "     - Reinforcement Learning allows machines to interact with the environment and make decisions based on the feedback received\n",
    "     - **Reinforcement Learning is further classified as:**\n",
    "       - 1) Positive Reinforcement\n",
    "       - 2) Negative Reinforcement "
   ]
  },
  {
   "cell_type": "code",
   "execution_count": null,
   "id": "d0ee643a-78e7-450f-8aba-9cadced2b628",
   "metadata": {},
   "outputs": [],
   "source": []
  }
 ],
 "metadata": {
  "kernelspec": {
   "display_name": "Python 3 (ipykernel)",
   "language": "python",
   "name": "python3"
  },
  "language_info": {
   "codemirror_mode": {
    "name": "ipython",
    "version": 3
   },
   "file_extension": ".py",
   "mimetype": "text/x-python",
   "name": "python",
   "nbconvert_exporter": "python",
   "pygments_lexer": "ipython3",
   "version": "3.12.2"
  }
 },
 "nbformat": 4,
 "nbformat_minor": 5
}
