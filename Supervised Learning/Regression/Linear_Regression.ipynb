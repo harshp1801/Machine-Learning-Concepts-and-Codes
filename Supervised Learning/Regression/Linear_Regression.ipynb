{
 "cells": [
  {
   "cell_type": "markdown",
   "metadata": {},
   "source": [
    "## $$ Simple \\ Linear \\ Regression $$ \n",
    "- Simple linear regression is the simplest statistical model that assumes a linear relationship between independent and dependent features.\n",
    "    - Independent variable (x) is predictor/input feature\n",
    "    - Dependent variable (y) is target/output feature\n",
    "- Incase of simple linear regression a single independent and dependent feature is involved.\n",
    "--- \n",
    "**Objective :**\n",
    "- The objective of simple linear regression is to come up with a equation of the line that most accurately predicts the relationship between independent variable (say x)\n",
    "and dependent/output variable (say y) and it minimizes the difference between the actual data point(y) and predicted data point(y_p) This line is called the `Best Fit Line` \n",
    "--- \n",
    "**Mathematical Intuition:**\n",
    "- Let us consider equation of a striaght line:\n",
    "**$$y_p = \\beta 0 +\\beta 1x$$**\n",
    "Where,\n",
    "-  both $\\beta$ 0 & $\\beta 1$ are parameters\n",
    "-  $\\beta 0$ is the y-intercept\n",
    "-  $\\beta 1$ is the coefficient of x\n",
    "-  $y_p$ is the predicted value of y\n",
    "---\n",
    "\n",
    "- To find out the best fit line OLS method is used.\n",
    "- OLS is a statistical method used to identify relationship between dependent and one or more independent features by calculating the values of parameters $\\beta 0$ and $\\beta 1$ that minimized the sum of square errors.\n",
    "- Error(Residual) = $\\sum(y-y_p)^2$ this is called as the cost function (Cost functions are calculated at the time training of training the model and the objective is to minimize this cost function). To minimize this cost function derivatives with respect to $\\beta 0$ and $\\beta 1$ is taken this results in equations:\n",
    "\n",
    "---\n",
    "\n",
    "differential with respect to $\\beta 0$ gives:\n",
    "$$ \\beta 0 =  y_m - \\beta 1x_m$$\n",
    "where,\n",
    "- y_m is mean of y\n",
    "- x_m is mean of x\n",
    "\n",
    "---\n",
    "\n",
    "- differential with respect to $\\beta 1$ gives:\n",
    "\n",
    "$$\n",
    "\\boxed{\\;\\beta_1=\\frac{n\\sum xy-\\left(\\sum x\\right)\\left(\\sum y\\right)}{\\,n\\sum x^{2}-\\left(\\sum x\\right)^{2}\\,}\\;}\n",
    "$$\n",
    "\n"
   ]
  },
  {
   "cell_type": "code",
   "execution_count": null,
   "metadata": {},
   "outputs": [],
   "source": []
  },
  {
   "cell_type": "code",
   "execution_count": null,
   "metadata": {},
   "outputs": [],
   "source": []
  }
 ],
 "metadata": {
  "kernelspec": {
   "display_name": "Python (TensorFlow CPU)",
   "language": "python",
   "name": "tf_cpu_env"
  },
  "language_info": {
   "name": "python",
   "version": "3.12.2"
  }
 },
 "nbformat": 4,
 "nbformat_minor": 2
}
